{
 "cells": [
  {
   "cell_type": "markdown",
   "metadata": {},
   "source": [
    "# neuroBrite 2020 - Behaviour notebook\n",
    "\n",
    "This notebook allows you to collect behavioural data (accuracy and reaction time) and analyse it.\n",
    "\n",
    "In the task you will see images of faces and buildings. Most of the faces will be adults but occasionally we will present baby faces. Most of the buildings with be houses but occasionally we will present images of castles. There are three versions of the task.\n",
    "\n",
    "1. Count how many baby faces are presented\n",
    "2. Count how many castles are presented\n",
    "3. Count both babies *and* castles\n",
    "\n",
    "In all versions of the task you should press one key for faces (of any age) and one key for buildings (of any type)."
   ]
  },
  {
   "cell_type": "code",
   "execution_count": 1,
   "metadata": {},
   "outputs": [
    {
     "name": "stdout",
     "output_type": "stream",
     "text": [
      "pygame 1.9.6\n",
      "Hello from the pygame community. https://www.pygame.org/contribute.html\n"
     ]
    }
   ],
   "source": [
    "# this cell loads the things we will need (make sure to run this!)\n",
    "from muselsl import stream, list_muses, view, record\n",
    "from multiprocessing import Process\n",
    "#from mne import Epochs, find_events\n",
    "from time import time, strftime, gmtime\n",
    "import os, glob\n",
    "import pandas as pd\n",
    "from stimulus_presentation import nb2020_rt\n",
    "#from utils import utils\n",
    "#from collections import OrderedDict\n",
    "import matplotlib.pyplot as plt\n",
    "import warnings\n",
    "warnings.filterwarnings('ignore')"
   ]
  },
  {
   "cell_type": "markdown",
   "metadata": {},
   "source": [
    "# Run the experiment\n",
    "\n",
    "The cell below runs the experiment:\n",
    "\n",
    "- Press the `z` key in response to faces\n",
    "- Press the `m` key in response to buildings\n",
    "\n",
    "Try to respond as quickly and as accurately as possible!\n",
    "\n",
    "<!--\n",
    "It is also possible to run the experiment from the psychopy app\n",
    "the script is \n",
    "eeg-notebooks/notebooks/stimulus_presentation/nb2020_rt.py\n",
    "-->"
   ]
  },
  {
   "cell_type": "code",
   "execution_count": 2,
   "metadata": {},
   "outputs": [
    {
     "name": "stdout",
     "output_type": "stream",
     "text": [
      "/Users/stephenrhodes/eeg-notebooks/notebooks/stimulus_presentation/stim/nb2020\n",
      "1.1999 \tWARNING \tUser requested fullscreen with size [1600  900], but screen is actually [1280, 800]. Using actual size\n"
     ]
    }
   ],
   "source": [
    "subject = 1\n",
    "version = 1 # 1 = count babies, 2 = count castles, 3 = count babies and castles\n",
    "duration = 5 #120\n",
    "\n",
    "nb2020_rt.present(duration=duration, subj_num=subject, version_num=version)"
   ]
  },
  {
   "cell_type": "markdown",
   "metadata": {},
   "source": [
    "# Read the data"
   ]
  },
  {
   "cell_type": "code",
   "execution_count": 2,
   "metadata": {},
   "outputs": [
    {
     "name": "stdout",
     "output_type": "stream",
     "text": [
      "version 1: 85.29% missing data (no response given)\n",
      "version 2: 84.73% missing data (no response given)\n",
      "version 3: 84.39% missing data (no response given)\n"
     ]
    },
    {
     "data": {
      "text/html": [
       "<div>\n",
       "<style scoped>\n",
       "    .dataframe tbody tr th:only-of-type {\n",
       "        vertical-align: middle;\n",
       "    }\n",
       "\n",
       "    .dataframe tbody tr th {\n",
       "        vertical-align: top;\n",
       "    }\n",
       "\n",
       "    .dataframe thead tr th {\n",
       "        text-align: left;\n",
       "    }\n",
       "\n",
       "    .dataframe thead tr:last-of-type th {\n",
       "        text-align: right;\n",
       "    }\n",
       "</style>\n",
       "<table border=\"1\" class=\"dataframe\">\n",
       "  <thead>\n",
       "    <tr>\n",
       "      <th></th>\n",
       "      <th></th>\n",
       "      <th colspan=\"4\" halign=\"left\">rts</th>\n",
       "      <th colspan=\"4\" halign=\"left\">acc</th>\n",
       "    </tr>\n",
       "    <tr>\n",
       "      <th></th>\n",
       "      <th></th>\n",
       "      <th>count</th>\n",
       "      <th>mean</th>\n",
       "      <th>std</th>\n",
       "      <th>sem</th>\n",
       "      <th>count</th>\n",
       "      <th>mean</th>\n",
       "      <th>std</th>\n",
       "      <th>sem</th>\n",
       "    </tr>\n",
       "    <tr>\n",
       "      <th>version</th>\n",
       "      <th>mark</th>\n",
       "      <th></th>\n",
       "      <th></th>\n",
       "      <th></th>\n",
       "      <th></th>\n",
       "      <th></th>\n",
       "      <th></th>\n",
       "      <th></th>\n",
       "      <th></th>\n",
       "    </tr>\n",
       "  </thead>\n",
       "  <tbody>\n",
       "    <tr>\n",
       "      <th rowspan=\"4\" valign=\"top\">1</th>\n",
       "      <th>0</th>\n",
       "      <td>22</td>\n",
       "      <td>0.460456</td>\n",
       "      <td>0.069196</td>\n",
       "      <td>0.014753</td>\n",
       "      <td>160</td>\n",
       "      <td>0.125000</td>\n",
       "      <td>0.331757</td>\n",
       "      <td>0.026228</td>\n",
       "    </tr>\n",
       "    <tr>\n",
       "      <th>1</th>\n",
       "      <td>3</td>\n",
       "      <td>0.407072</td>\n",
       "      <td>0.078859</td>\n",
       "      <td>0.045529</td>\n",
       "      <td>22</td>\n",
       "      <td>0.136364</td>\n",
       "      <td>0.351250</td>\n",
       "      <td>0.074887</td>\n",
       "    </tr>\n",
       "    <tr>\n",
       "      <th>2</th>\n",
       "      <td>26</td>\n",
       "      <td>0.444955</td>\n",
       "      <td>0.089817</td>\n",
       "      <td>0.017614</td>\n",
       "      <td>163</td>\n",
       "      <td>0.981595</td>\n",
       "      <td>0.134825</td>\n",
       "      <td>0.010560</td>\n",
       "    </tr>\n",
       "    <tr>\n",
       "      <th>3</th>\n",
       "      <td>4</td>\n",
       "      <td>0.459500</td>\n",
       "      <td>0.104079</td>\n",
       "      <td>0.052039</td>\n",
       "      <td>29</td>\n",
       "      <td>0.965517</td>\n",
       "      <td>0.185695</td>\n",
       "      <td>0.034483</td>\n",
       "    </tr>\n",
       "    <tr>\n",
       "      <th rowspan=\"4\" valign=\"top\">2</th>\n",
       "      <th>0</th>\n",
       "      <td>18</td>\n",
       "      <td>0.450432</td>\n",
       "      <td>0.067811</td>\n",
       "      <td>0.015983</td>\n",
       "      <td>127</td>\n",
       "      <td>0.125984</td>\n",
       "      <td>0.333146</td>\n",
       "      <td>0.029562</td>\n",
       "    </tr>\n",
       "    <tr>\n",
       "      <th>1</th>\n",
       "      <td>3</td>\n",
       "      <td>0.407072</td>\n",
       "      <td>0.078859</td>\n",
       "      <td>0.045529</td>\n",
       "      <td>16</td>\n",
       "      <td>0.187500</td>\n",
       "      <td>0.403113</td>\n",
       "      <td>0.100778</td>\n",
       "    </tr>\n",
       "    <tr>\n",
       "      <th>2</th>\n",
       "      <td>19</td>\n",
       "      <td>0.436420</td>\n",
       "      <td>0.060840</td>\n",
       "      <td>0.013958</td>\n",
       "      <td>114</td>\n",
       "      <td>0.973684</td>\n",
       "      <td>0.160779</td>\n",
       "      <td>0.015058</td>\n",
       "    </tr>\n",
       "    <tr>\n",
       "      <th>3</th>\n",
       "      <td>2</td>\n",
       "      <td>0.517818</td>\n",
       "      <td>0.117865</td>\n",
       "      <td>0.083343</td>\n",
       "      <td>18</td>\n",
       "      <td>0.944444</td>\n",
       "      <td>0.235702</td>\n",
       "      <td>0.055556</td>\n",
       "    </tr>\n",
       "    <tr>\n",
       "      <th rowspan=\"4\" valign=\"top\">3</th>\n",
       "      <th>0</th>\n",
       "      <td>19</td>\n",
       "      <td>0.451608</td>\n",
       "      <td>0.066100</td>\n",
       "      <td>0.015164</td>\n",
       "      <td>136</td>\n",
       "      <td>0.117647</td>\n",
       "      <td>0.323381</td>\n",
       "      <td>0.027730</td>\n",
       "    </tr>\n",
       "    <tr>\n",
       "      <th>1</th>\n",
       "      <td>4</td>\n",
       "      <td>0.410238</td>\n",
       "      <td>0.064698</td>\n",
       "      <td>0.032349</td>\n",
       "      <td>20</td>\n",
       "      <td>0.200000</td>\n",
       "      <td>0.410391</td>\n",
       "      <td>0.091766</td>\n",
       "    </tr>\n",
       "    <tr>\n",
       "      <th>2</th>\n",
       "      <td>22</td>\n",
       "      <td>0.453661</td>\n",
       "      <td>0.076966</td>\n",
       "      <td>0.016409</td>\n",
       "      <td>124</td>\n",
       "      <td>0.975806</td>\n",
       "      <td>0.154273</td>\n",
       "      <td>0.013854</td>\n",
       "    </tr>\n",
       "    <tr>\n",
       "      <th>3</th>\n",
       "      <td>2</td>\n",
       "      <td>0.517818</td>\n",
       "      <td>0.117865</td>\n",
       "      <td>0.083343</td>\n",
       "      <td>21</td>\n",
       "      <td>0.952381</td>\n",
       "      <td>0.218218</td>\n",
       "      <td>0.047619</td>\n",
       "    </tr>\n",
       "  </tbody>\n",
       "</table>\n",
       "</div>"
      ],
      "text/plain": [
       "               rts                                 acc                      \\\n",
       "             count      mean       std       sem count      mean       std   \n",
       "version mark                                                                 \n",
       "1       0       22  0.460456  0.069196  0.014753   160  0.125000  0.331757   \n",
       "        1        3  0.407072  0.078859  0.045529    22  0.136364  0.351250   \n",
       "        2       26  0.444955  0.089817  0.017614   163  0.981595  0.134825   \n",
       "        3        4  0.459500  0.104079  0.052039    29  0.965517  0.185695   \n",
       "2       0       18  0.450432  0.067811  0.015983   127  0.125984  0.333146   \n",
       "        1        3  0.407072  0.078859  0.045529    16  0.187500  0.403113   \n",
       "        2       19  0.436420  0.060840  0.013958   114  0.973684  0.160779   \n",
       "        3        2  0.517818  0.117865  0.083343    18  0.944444  0.235702   \n",
       "3       0       19  0.451608  0.066100  0.015164   136  0.117647  0.323381   \n",
       "        1        4  0.410238  0.064698  0.032349    20  0.200000  0.410391   \n",
       "        2       22  0.453661  0.076966  0.016409   124  0.975806  0.154273   \n",
       "        3        2  0.517818  0.117865  0.083343    21  0.952381  0.218218   \n",
       "\n",
       "                        \n",
       "                   sem  \n",
       "version mark            \n",
       "1       0     0.026228  \n",
       "        1     0.074887  \n",
       "        2     0.010560  \n",
       "        3     0.034483  \n",
       "2       0     0.029562  \n",
       "        1     0.100778  \n",
       "        2     0.015058  \n",
       "        3     0.055556  \n",
       "3       0     0.027730  \n",
       "        1     0.091766  \n",
       "        2     0.013854  \n",
       "        3     0.047619  "
      ]
     },
     "execution_count": 2,
     "metadata": {},
     "output_type": "execute_result"
    }
   ],
   "source": [
    "# enter the subject number you want to load\n",
    "subject = 1\n",
    "versions = [1,2,3] # which conditions should we read in?\n",
    "\n",
    "d_list = []\n",
    "for v in versions:\n",
    "    data_path = os.path.join(os.path.expanduser(\"~\"), \"eeg-notebooks\", \"data\", \"visual\", \n",
    "                         \"nb2020_rt\", \"subject\" + str(subject), \"version\" + str(v)) + \"/\"\n",
    "\n",
    "    # combine all data files\n",
    "    filenames = [i for i in glob.glob(data_path + '*.{}'.format(\"csv\"))]\n",
    "    v_data = pd.concat([pd.read_csv(f) for f in filenames])\n",
    "\n",
    "    # drop missing values\n",
    "    clean_data = v_data.dropna()\n",
    "\n",
    "    print(\"version %i: %.2f%% missing data (no response given)\" % (v, 100*(1 - len(clean_data.index)/ len(v_data.index))) )\n",
    "    \n",
    "    v_data['version'] = v # add version to a column\n",
    "    \n",
    "    d_list.append(v_data)\n",
    "    \n",
    "# combine all data sets\n",
    "all_data = pd.concat(d_list)\n",
    "\n",
    "# add column for accuracy\n",
    "# image_type = 1 = faces\n",
    "all_data[\"resp_type\"] = pd.Series(all_data.resps == 'z', index=all_data.index, dtype='int64') \n",
    "all_data[\"acc\"] = pd.Series(all_data.resp_type == all_data.image_type, index=all_data.index, dtype='int64') \n",
    "\n",
    "# aggregate data\n",
    "agg_data = all_data.groupby([\"version\", \"mark\"]).agg(\n",
    "    {\n",
    "         'rts': ['count', 'mean', 'std', 'sem'],\n",
    "        'acc': ['count', 'mean', 'std', 'sem']\n",
    "    }\n",
    ")\n",
    "\n",
    "agg_data"
   ]
  },
  {
   "cell_type": "markdown",
   "metadata": {},
   "source": [
    "# Reaction times\n",
    "\n",
    "The plot below shows average reaction time for the two types of face stimuli and the two types of buildings.\n",
    "\n",
    "Which stimuli elicit the fastest and slowest reaction times?"
   ]
  },
  {
   "cell_type": "code",
   "execution_count": 3,
   "metadata": {},
   "outputs": [
    {
     "data": {
      "image/png": "[encoded data removed]",
      "text/plain": [
       "<Figure size 1080x360 with 3 Axes>"
      ]
     },
     "metadata": {
      "needs_background": "light"
     },
     "output_type": "display_data"
    }
   ],
   "source": [
    "\n",
    "stim_labels = [\"Adults\",\"Babies\",\"Houses\",\"Castles\"]\n",
    "colors = [\"green\", \"blue\", \"red\"]\n",
    "\n",
    "fig, ax = plt.subplots(1, len(versions), sharey=True, figsize=(15,5))\n",
    "fig.suptitle(\"Reaction time (s)\")\n",
    "\n",
    "for i in range(len(versions)):\n",
    "    plt_data = agg_data.groupby('version').get_group(versions[i])\n",
    "\n",
    "    mean_rt = plt_data[\"rts\"]['mean'] # average reaction time\n",
    "    se_rt = plt_data[\"rts\"]['sem'] # standard error (measure of how uncertain we are about the average)\n",
    "    \n",
    "    ax[i].errorbar(stim_labels, mean_rt, se_rt, linestyle='None', marker='^', color=colors[versions[i] - 1])\n",
    "    ax[i].set_title('Version %i' % versions[i])\n",
    "   "
   ]
  },
  {
   "cell_type": "markdown",
   "metadata": {},
   "source": [
    "# Accuracy\n",
    "\n",
    "The plot below shows accuracy for the two types of face stimuli and the two types of buildings.\n",
    "\n",
    "Were participants more or less accurate for specific stimuli?"
   ]
  },
  {
   "cell_type": "code",
   "execution_count": 4,
   "metadata": {},
   "outputs": [
    {
     "data": {
      "image/png": "[encoded data removed]",
      "text/plain": [
       "<Figure size 1080x360 with 3 Axes>"
      ]
     },
     "metadata": {
      "needs_background": "light"
     },
     "output_type": "display_data"
    }
   ],
   "source": [
    "\n",
    "fig, ax = plt.subplots(1, len(versions), sharey=True, figsize=(15,5))\n",
    "fig.suptitle(\"Accuracy\")\n",
    "\n",
    "for i in range(len(versions)):\n",
    "    plt_data = agg_data.groupby('version').get_group(versions[i])\n",
    "\n",
    "    mean_acc = plt_data[\"acc\"]['mean'] # average accuracy\n",
    "    se_acc = plt_data[\"acc\"]['sem'] # uncertainty in the average\n",
    "    \n",
    "    ax[i].errorbar(stim_labels, mean_acc, se_acc, linestyle='None', marker='^', color=colors[i])\n",
    "    ax[i].set_title('Version %i' % versions[i])\n"
   ]
  },
  {
   "cell_type": "code",
   "execution_count": null,
   "metadata": {},
   "outputs": [],
   "source": []
  }
 ],
 "metadata": {
  "kernelspec": {
   "display_name": "Python 3",
   "language": "python",
   "name": "python3"
  },
  "language_info": {
   "codemirror_mode": {
    "name": "ipython",
    "version": 3
   },
   "file_extension": ".py",
   "mimetype": "text/x-python",
   "name": "python",
   "nbconvert_exporter": "python",
   "pygments_lexer": "ipython3",
   "version": "3.6.9"
  }
 },
 "nbformat": 4,
 "nbformat_minor": 2
}
