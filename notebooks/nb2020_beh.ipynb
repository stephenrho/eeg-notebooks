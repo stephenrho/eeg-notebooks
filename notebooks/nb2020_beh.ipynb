{
 "cells": [
  {
   "cell_type": "markdown",
   "metadata": {},
   "source": [
    "# neuroBrite 2020 - Behaviour notebook\n",
    "\n",
    "This notebook allows you to collect behavioural data (accuracy and reaction time) and analyse it.\n",
    "\n",
    "In the task you will see images of faces and buildings. Most of the faces will be adults but occasionally we will present baby faces. Most of the buildings with be houses but occasionally we will present images of castles. There are three versions of the task.\n",
    "\n",
    "1. Count how many baby faces are presented\n",
    "2. Count how many castles are presented\n",
    "3. Count both faces *and* castles\n",
    "\n",
    "In all versions of the task you should press one key for faces (of any age) and one key for buildings (of any type)."
   ]
  },
  {
   "cell_type": "code",
   "execution_count": 10,
   "metadata": {},
   "outputs": [],
   "source": [
    "# this cell loads the things we will need (make sure to run this!)\n",
    "from muselsl import stream, list_muses, view, record\n",
    "from multiprocessing import Process\n",
    "#from mne import Epochs, find_events\n",
    "from time import time, strftime, gmtime\n",
    "import os, glob\n",
    "import pandas as pd\n",
    "from stimulus_presentation import nb2020_rt\n",
    "#from utils import utils\n",
    "#from collections import OrderedDict\n",
    "import warnings\n",
    "warnings.filterwarnings('ignore')"
   ]
  },
  {
   "cell_type": "markdown",
   "metadata": {},
   "source": [
    "# Run the experiment\n",
    "\n",
    "The cell below runs the experiment:\n",
    "\n",
    "- Press the `z` key in response to faces\n",
    "- Press the `m` key in response to buildings\n",
    "\n",
    "Try to respond as quickly and as accurately as possible!"
   ]
  },
  {
   "cell_type": "code",
   "execution_count": 5,
   "metadata": {},
   "outputs": [
    {
     "name": "stdout",
     "output_type": "stream",
     "text": [
      "/Users/stephenrhodes/eeg-notebooks/notebooks/stimulus_presentation/stim/nb2020\n",
      "222.3917 \tWARNING \tUser requested fullscreen with size [1600  900], but screen is actually [1280, 800]. Using actual size\n"
     ]
    }
   ],
   "source": [
    "subject = 1\n",
    "session = 1\n",
    "duration = 20\n",
    "\n",
    "nb2020_rt.present(duration=duration, subj_num=subject, sess_num=session)"
   ]
  },
  {
   "cell_type": "markdown",
   "metadata": {},
   "source": [
    "# Read the data"
   ]
  },
  {
   "cell_type": "code",
   "execution_count": 38,
   "metadata": {},
   "outputs": [
    {
     "name": "stdout",
     "output_type": "stream",
     "text": [
      "84.73% missing data (no response given)\n"
     ]
    },
    {
     "data": {
      "text/html": [
       "<div>\n",
       "<style scoped>\n",
       "    .dataframe tbody tr th:only-of-type {\n",
       "        vertical-align: middle;\n",
       "    }\n",
       "\n",
       "    .dataframe tbody tr th {\n",
       "        vertical-align: top;\n",
       "    }\n",
       "\n",
       "    .dataframe thead tr th {\n",
       "        text-align: left;\n",
       "    }\n",
       "\n",
       "    .dataframe thead tr:last-of-type th {\n",
       "        text-align: right;\n",
       "    }\n",
       "</style>\n",
       "<table border=\"1\" class=\"dataframe\">\n",
       "  <thead>\n",
       "    <tr>\n",
       "      <th></th>\n",
       "      <th colspan=\"4\" halign=\"left\">rts</th>\n",
       "      <th colspan=\"4\" halign=\"left\">acc</th>\n",
       "    </tr>\n",
       "    <tr>\n",
       "      <th></th>\n",
       "      <th>count</th>\n",
       "      <th>mean</th>\n",
       "      <th>std</th>\n",
       "      <th>sem</th>\n",
       "      <th>count</th>\n",
       "      <th>mean</th>\n",
       "      <th>std</th>\n",
       "      <th>sem</th>\n",
       "    </tr>\n",
       "    <tr>\n",
       "      <th>mark</th>\n",
       "      <th></th>\n",
       "      <th></th>\n",
       "      <th></th>\n",
       "      <th></th>\n",
       "      <th></th>\n",
       "      <th></th>\n",
       "      <th></th>\n",
       "      <th></th>\n",
       "    </tr>\n",
       "  </thead>\n",
       "  <tbody>\n",
       "    <tr>\n",
       "      <th>0</th>\n",
       "      <td>18</td>\n",
       "      <td>0.450432</td>\n",
       "      <td>0.067811</td>\n",
       "      <td>0.015983</td>\n",
       "      <td>18</td>\n",
       "      <td>0.888889</td>\n",
       "      <td>0.323381</td>\n",
       "      <td>0.076222</td>\n",
       "    </tr>\n",
       "    <tr>\n",
       "      <th>1</th>\n",
       "      <td>3</td>\n",
       "      <td>0.407072</td>\n",
       "      <td>0.078859</td>\n",
       "      <td>0.045529</td>\n",
       "      <td>3</td>\n",
       "      <td>1.000000</td>\n",
       "      <td>0.000000</td>\n",
       "      <td>0.000000</td>\n",
       "    </tr>\n",
       "    <tr>\n",
       "      <th>2</th>\n",
       "      <td>19</td>\n",
       "      <td>0.436420</td>\n",
       "      <td>0.060840</td>\n",
       "      <td>0.013958</td>\n",
       "      <td>19</td>\n",
       "      <td>0.842105</td>\n",
       "      <td>0.374634</td>\n",
       "      <td>0.085947</td>\n",
       "    </tr>\n",
       "    <tr>\n",
       "      <th>3</th>\n",
       "      <td>2</td>\n",
       "      <td>0.517818</td>\n",
       "      <td>0.117865</td>\n",
       "      <td>0.083343</td>\n",
       "      <td>2</td>\n",
       "      <td>0.500000</td>\n",
       "      <td>0.707107</td>\n",
       "      <td>0.500000</td>\n",
       "    </tr>\n",
       "  </tbody>\n",
       "</table>\n",
       "</div>"
      ],
      "text/plain": [
       "       rts                                 acc                              \n",
       "     count      mean       std       sem count      mean       std       sem\n",
       "mark                                                                        \n",
       "0       18  0.450432  0.067811  0.015983    18  0.888889  0.323381  0.076222\n",
       "1        3  0.407072  0.078859  0.045529     3  1.000000  0.000000  0.000000\n",
       "2       19  0.436420  0.060840  0.013958    19  0.842105  0.374634  0.085947\n",
       "3        2  0.517818  0.117865  0.083343     2  0.500000  0.707107  0.500000"
      ]
     },
     "execution_count": 38,
     "metadata": {},
     "output_type": "execute_result"
    }
   ],
   "source": [
    "# enter the subject and session number you want to load\n",
    "subject = 1\n",
    "session = 1\n",
    "\n",
    "data_path = os.path.join(os.path.expanduser(\"~\"), \"eeg-notebooks\", \"data\", \"visual\", \n",
    "                         \"nb2020_rt\", \"subject\" + str(subject), \"session\" + str(session)) + \"/\"\n",
    "\n",
    "# combine all data files\n",
    "all_filenames = [i for i in glob.glob(data_path + '*.{}'.format(\"csv\"))]\n",
    "all_data = pd.concat([pd.read_csv(f) for f in all_filenames])\n",
    "\n",
    "# drop missing values\n",
    "clean_data = all_data.dropna()\n",
    "\n",
    "print(\"%.2f%% missing data (no response given)\" % (100*(1 - len(clean_data.index)/ len(all_data.index))) )\n",
    "\n",
    "# add column for accuracy\n",
    "# image_type = 1 = faces\n",
    "clean_data[\"resp_type\"] = pd.Series(clean_data.resps == 'z', index=clean_data.index, dtype='int64') \n",
    "clean_data[\"acc\"] = pd.Series(clean_data.resp_type == clean_data.image_type, index=clean_data.index, dtype='int64') \n",
    "\n",
    "# aggregate data\n",
    "clean_data.groupby(\"mark\").agg(\n",
    "    {\n",
    "         'rts': ['count', 'mean', 'std', 'sem'],\n",
    "        'acc': ['count', 'mean', 'std', 'sem']\n",
    "    }\n",
    ")\n"
   ]
  },
  {
   "cell_type": "markdown",
   "metadata": {},
   "source": [
    "# to do... plot data"
   ]
  }
 ],
 "metadata": {
  "kernelspec": {
   "display_name": "Python 3",
   "language": "python",
   "name": "python3"
  },
  "language_info": {
   "codemirror_mode": {
    "name": "ipython",
    "version": 3
   },
   "file_extension": ".py",
   "mimetype": "text/x-python",
   "name": "python",
   "nbconvert_exporter": "python",
   "pygments_lexer": "ipython3",
   "version": "3.6.9"
  }
 },
 "nbformat": 4,
 "nbformat_minor": 2
}
